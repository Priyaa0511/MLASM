{
  "nbformat": 4,
  "nbformat_minor": 0,
  "metadata": {
    "colab": {
      "provenance": []
    },
    "kernelspec": {
      "name": "python3",
      "display_name": "Python 3"
    },
    "language_info": {
      "name": "python"
    }
  },
  "cells": [
    {
      "cell_type": "markdown",
      "source": [],
      "metadata": {
        "id": "VRa_egJYnad4"
      }
    },
    {
      "cell_type": "markdown",
      "source": [
        "Import libraries"
      ],
      "metadata": {
        "id": "YQUldJVtnc8k"
      }
    },
    {
      "cell_type": "code",
      "source": [
        "from google.colab import drive\n",
        "drive.mount('/content/drive')"
      ],
      "metadata": {
        "id": "946ocF3bngYZ",
        "colab": {
          "base_uri": "https://localhost:8080/"
        },
        "outputId": "3f75c756-72f0-49bb-f778-99519f2ed4fe"
      },
      "execution_count": 17,
      "outputs": [
        {
          "output_type": "stream",
          "name": "stdout",
          "text": [
            "Drive already mounted at /content/drive; to attempt to forcibly remount, call drive.mount(\"/content/drive\", force_remount=True).\n"
          ]
        }
      ]
    },
    {
      "cell_type": "code",
      "source": [
        "import pandas as pd\n",
        "import seaborn as sns\n",
        "import matplotlib.pyplot as plt\n",
        "import numpy as np\n",
        "import warnings\n",
        "warnings.filterwarnings(\"ignore\")\n",
        "from sklearn.ensemble import RandomForestClassifier\n",
        "import lightgbm as lgb\n",
        "from sklearn.neighbors import KNeighborsClassifier\n",
        "from sklearn.tree import DecisionTreeClassifier\n",
        "import xgboost as xgb"
      ],
      "metadata": {
        "id": "FyMQjlaYnz2D"
      },
      "execution_count": 18,
      "outputs": []
    },
    {
      "cell_type": "markdown",
      "source": [
        "Data pre-processing"
      ],
      "metadata": {
        "id": "-HSNjntpn1wL"
      }
    },
    {
      "cell_type": "code",
      "source": [
        "train_data=pd.read_csv('drive/MyDrive/Colab Notebooks/newmltrain.csv')"
      ],
      "metadata": {
        "id": "R7JelL9q4p4Y"
      },
      "execution_count": 19,
      "outputs": []
    },
    {
      "cell_type": "code",
      "source": [
        "train_data.shape"
      ],
      "metadata": {
        "id": "ZBNc8p15nmT-",
        "colab": {
          "base_uri": "https://localhost:8080/"
        },
        "outputId": "efe30710-76ae-469a-d1e9-92246c766df2"
      },
      "execution_count": 20,
      "outputs": [
        {
          "output_type": "execute_result",
          "data": {
            "text/plain": [
              "(8000, 1446)"
            ]
          },
          "metadata": {},
          "execution_count": 20
        }
      ]
    },
    {
      "cell_type": "code",
      "source": [
        "train_data.dtypes.value_counts()"
      ],
      "metadata": {
        "id": "xnjhl1imo-5W",
        "colab": {
          "base_uri": "https://localhost:8080/"
        },
        "outputId": "f93e4187-318f-472f-baba-ea54f0d30efb"
      },
      "execution_count": 21,
      "outputs": [
        {
          "output_type": "execute_result",
          "data": {
            "text/plain": [
              "float64    1039\n",
              "int64       406\n",
              "object        1\n",
              "dtype: int64"
            ]
          },
          "metadata": {},
          "execution_count": 21
        }
      ]
    },
    {
      "cell_type": "code",
      "source": [
        "# Below code gives percentage of null in every column\n",
        "null_percentage = train_data.isnull().sum()/train_data.shape[0]*100\n",
        "\n",
        "# Below code gives list of columns having more than 60% null\n",
        "col_to_drop = null_percentage[null_percentage>60].keys()\n",
        "\n",
        "train_data = train_data.drop(col_to_drop, axis=1)"
      ],
      "metadata": {
        "id": "nVn7W2xXpCjd"
      },
      "execution_count": 22,
      "outputs": []
    },
    {
      "cell_type": "code",
      "source": [
        "train_data.shape"
      ],
      "metadata": {
        "id": "NyEp-Rb_pFZL",
        "colab": {
          "base_uri": "https://localhost:8080/"
        },
        "outputId": "37bfa9b4-ef7e-4154-c498-be44ef02a992"
      },
      "execution_count": 23,
      "outputs": [
        {
          "output_type": "execute_result",
          "data": {
            "text/plain": [
              "(8000, 1446)"
            ]
          },
          "metadata": {},
          "execution_count": 23
        }
      ]
    },
    {
      "cell_type": "code",
      "source": [
        "train_data.isna().sum().sort_values(ascending=False).head(10)"
      ],
      "metadata": {
        "id": "C_CvELoLpI7c",
        "colab": {
          "base_uri": "https://localhost:8080/"
        },
        "outputId": "3fabd310-c138-4217-f6d1-fbe6eb3b985e"
      },
      "execution_count": 24,
      "outputs": [
        {
          "output_type": "execute_result",
          "data": {
            "text/plain": [
              "name         0\n",
              "minssO       0\n",
              "minsOH       0\n",
              "minssssNp    0\n",
              "minaasN      0\n",
              "minddsN      0\n",
              "minsssN      0\n",
              "minaaN       0\n",
              "mindsN       0\n",
              "minsssNHp    0\n",
              "dtype: int64"
            ]
          },
          "metadata": {},
          "execution_count": 24
        }
      ]
    },
    {
      "cell_type": "code",
      "source": [
        "# get the columns with null values\n",
        "null_cols = train_data.columns[train_data.isnull().any()]\n",
        "\n",
        "# get the count of each data type for columns with null values\n",
        "dtype_counts = train_data[null_cols].dtypes.value_counts()\n",
        "dtype_counts"
      ],
      "metadata": {
        "id": "I5J4Xt8-pLzw",
        "colab": {
          "base_uri": "https://localhost:8080/"
        },
        "outputId": "2f0b9ad6-ad62-4790-d0ee-f2edf3e4c1f8"
      },
      "execution_count": 25,
      "outputs": [
        {
          "output_type": "execute_result",
          "data": {
            "text/plain": [
              "Series([], dtype: int64)"
            ]
          },
          "metadata": {},
          "execution_count": 25
        }
      ]
    },
    {
      "cell_type": "code",
      "source": [
        "# get the mean of the columns with float data type\n",
        "mean_values = train_data.select_dtypes(include=['float']).mean()\n",
        "\n",
        "# replace missing values with mean for float columns\n",
        "train_data[train_data.select_dtypes(include=['float']).columns] = train_data.select_dtypes(include=['float']).fillna(mean_values)"
      ],
      "metadata": {
        "id": "Y4r6p7gapOeJ"
      },
      "execution_count": 26,
      "outputs": []
    },
    {
      "cell_type": "code",
      "source": [
        "train_data=train_data.drop('name',axis=1)"
      ],
      "metadata": {
        "id": "xgD5ZEiUpQ02"
      },
      "execution_count": 27,
      "outputs": []
    },
    {
      "cell_type": "markdown",
      "source": [
        "X as the feature matrix, including all descriptors, and y as the response variable"
      ],
      "metadata": {
        "id": "jcWdLuppu98w"
      }
    },
    {
      "cell_type": "code",
      "source": [
        "X=train_data.drop('cls',axis=1)\n",
        "y=train_data['cls']"
      ],
      "metadata": {
        "id": "BYcoGxvpuwij"
      },
      "execution_count": 28,
      "outputs": []
    },
    {
      "cell_type": "markdown",
      "source": [
        "Feature selection"
      ],
      "metadata": {
        "id": "it61YdvRplDM"
      }
    },
    {
      "cell_type": "code",
      "source": [
        "from sklearn.feature_selection import VarianceThreshold\n",
        "\n",
        "# Define the threshold value\n",
        "threshold_value = 0.70  # Adjust as needed\n",
        "\n",
        "# Initialize the VarianceThreshold selector\n",
        "selector = VarianceThreshold(threshold=threshold_value)\n",
        "\n",
        "# Apply the selector to the original DataFrame\n",
        "X_selected = selector.fit_transform(X)\n",
        "\n",
        "# Get the indices of the selected features\n",
        "selected_indices = selector.get_support(indices=True)\n",
        "\n",
        "# Get the selected feature names\n",
        "selected_features = X.columns[selected_indices]\n",
        "\n",
        "# Create the final DataFrame with selected features\n",
        "X = X[selected_features]"
      ],
      "metadata": {
        "id": "u8mykjmWpnPR"
      },
      "execution_count": 29,
      "outputs": []
    },
    {
      "cell_type": "code",
      "source": [
        "print(X.shape)\n"
      ],
      "metadata": {
        "colab": {
          "base_uri": "https://localhost:8080/"
        },
        "id": "pZYFQzUwIWeZ",
        "outputId": "4b565af6-89c0-4edc-f56d-f1fb9169f6d9"
      },
      "execution_count": 31,
      "outputs": [
        {
          "output_type": "stream",
          "name": "stdout",
          "text": [
            "(8000, 510)\n"
          ]
        }
      ]
    },
    {
      "cell_type": "code",
      "execution_count": 32,
      "metadata": {
        "colab": {
          "base_uri": "https://localhost:8080/"
        },
        "outputId": "a2f06872-d1d5-4cd0-8605-0a2490c949d9",
        "id": "6eq8V0pxp8N2"
      },
      "outputs": [
        {
          "output_type": "stream",
          "name": "stdout",
          "text": [
            "Drive already mounted at /content/drive; to attempt to forcibly remount, call drive.mount(\"/content/drive\", force_remount=True).\n"
          ]
        }
      ],
      "source": [
        "from google.colab import drive\n",
        "drive.mount('/content/drive')"
      ]
    },
    {
      "cell_type": "code",
      "execution_count": 33,
      "metadata": {
        "id": "JQecb3cnp8OJ"
      },
      "outputs": [],
      "source": [
        "test_data=pd.read_csv('drive/MyDrive/Colab Notebooks/newmltest.csv')"
      ]
    },
    {
      "cell_type": "code",
      "execution_count": 34,
      "metadata": {
        "colab": {
          "base_uri": "https://localhost:8080/"
        },
        "outputId": "d36bb9d6-e3df-42c3-8cb4-0072c19dd286",
        "id": "88olkx1Jp8OK"
      },
      "outputs": [
        {
          "output_type": "execute_result",
          "data": {
            "text/plain": [
              "(2000, 1446)"
            ]
          },
          "metadata": {},
          "execution_count": 34
        }
      ],
      "source": [
        "test_data.shape"
      ]
    },
    {
      "cell_type": "code",
      "source": [
        "X_test=test_data.drop('cls',axis=1)\n",
        "y_test=test_data['cls']"
      ],
      "metadata": {
        "id": "758QUu4lp8ON"
      },
      "execution_count": 35,
      "outputs": []
    },
    {
      "cell_type": "code",
      "source": [
        "common_columns = X_test.columns.intersection(selected_features)"
      ],
      "metadata": {
        "id": "BMGXZyYlI1PK"
      },
      "execution_count": 36,
      "outputs": []
    },
    {
      "cell_type": "code",
      "source": [
        "X_test = X_test[common_columns]"
      ],
      "metadata": {
        "id": "-4R5rOODI82i"
      },
      "execution_count": 37,
      "outputs": []
    },
    {
      "cell_type": "code",
      "source": [
        "print(X_test.shape)"
      ],
      "metadata": {
        "colab": {
          "base_uri": "https://localhost:8080/"
        },
        "id": "esTAD2fLJGRT",
        "outputId": "e0bd5706-0e4c-408c-d6c7-f6c76fe0fa13"
      },
      "execution_count": 38,
      "outputs": [
        {
          "output_type": "stream",
          "name": "stdout",
          "text": [
            "(2000, 510)\n"
          ]
        }
      ]
    },
    {
      "cell_type": "markdown",
      "source": [
        "Cross validation and model generation and ROC curve"
      ],
      "metadata": {
        "id": "8y9T3jp49X1t"
      }
    },
    {
      "cell_type": "code",
      "source": [
        "from sklearn.metrics import matthews_corrcoef, confusion_matrix, roc_curve, roc_auc_score, accuracy_score\n",
        "from sklearn.model_selection import cross_val_predict\n",
        "import matplotlib.pyplot as plt\n",
        "import numpy as np\n",
        "\n",
        "# Create a dictionary of models\n",
        "models = {\n",
        "    'Random Forest': RandomForestClassifier(n_estimators=300,random_state=42,max_depth=10),\n",
        "    'LightGBM': lgb.LGBMClassifier(force_col_wise=True, n_estimators=100, max_depth=10, num_leaves=50, learning_rate=0.2),\n",
        "    'K-Nearest Neighbors': KNeighborsClassifier(n_neighbors=5),\n",
        "    'Decision Tree': DecisionTreeClassifier(criterion='entropy', max_depth=10, min_samples_split=10, min_samples_leaf=2, random_state=42),\n",
        "    'XGBoost': xgb.XGBClassifier(learning_rate=0.1, max_depth=3, reg_lambda=0.5, n_estimators=100)\n",
        "}\n",
        "\n",
        "# Create subplots\n",
        "fig, axs = plt.subplots(1, 2, figsize=(15, 5))\n",
        "\n",
        "# Initialize the result dictionaries\n",
        "train_results = {}\n",
        "test_results = {}\n",
        "\n",
        "# Loop through each model\n",
        "for model_name, model in models.items():\n",
        "    # Fit the model\n",
        "    model.fit(X, y)\n",
        "\n",
        "    # Perform cross-validation and get predicted probabilities for training set\n",
        "    y_probas_train = cross_val_predict(model, X, y, cv=10, method=\"predict_proba\")[:, 1]\n",
        "\n",
        "    # Calculate AUC for training set\n",
        "    fpr_train, tpr_train, _ = roc_curve(y, y_probas_train)\n",
        "    auc_train = roc_auc_score(y, y_probas_train)\n",
        "\n",
        "    # Calculate Matthews Correlation Coefficient\n",
        "    mcc = matthews_corrcoef(y, (y_probas_train > 0.5).astype(int))\n",
        "\n",
        "    # Calculate Sensitivity and Specificity\n",
        "    tn, fp, fn, tp = confusion_matrix(y, (y_probas_train > 0.5).astype(int)).ravel()\n",
        "    sensitivity = tp / (tp + fn)\n",
        "    specificity = tn / (tn + fp)\n",
        "\n",
        "    # Calculate Accuracy\n",
        "    accuracy_train = accuracy_score(y, (y_probas_train > 0.5).astype(int))\n",
        "\n",
        "    train_results[model_name] = {\n",
        "        'AUC': auc_train,\n",
        "        'MCC': mcc,\n",
        "        'Sensitivity': sensitivity,\n",
        "        'Specificity': specificity,\n",
        "        'Accuracy': accuracy_train\n",
        "    }\n",
        "\n",
        "    # Plot ROC curve for training set\n",
        "    axs[0].plot(fpr_train, tpr_train, label=f'{model_name} (AUC = {auc_train:.2f}')\n",
        "    axs[0].set_xlabel('False Positive Rate')\n",
        "    axs[0].set_ylabel('True Positive Rate')\n",
        "    axs[0].set_title('ROC Curve - Ten-fold cross-validation')\n",
        "    axs[0].legend()\n",
        "\n",
        "    # Predict on the test set\n",
        "    y_pred = model.predict(X_test)\n",
        "\n",
        "    # Calculate accuracy for the test set\n",
        "    accuracy_test = accuracy_score(y_test, y_pred)\n",
        "    test_results[model_name] = {'Test Accuracy': accuracy_test}\n",
        "\n",
        "    # Predict on the test set\n",
        "    y_probas_test = model.predict_proba(X_test)[:, 1]\n",
        "\n",
        "    # Calculate AUC for the test set\n",
        "    fpr_test, tpr_test, _ = roc_curve(y_test, y_probas_test)\n",
        "    auc_test = roc_auc_score(y_test, y_probas_test)\n",
        "\n",
        "    # Calculate Matthews Correlation Coefficient\n",
        "    mcc = matthews_corrcoef(y_test, (y_probas_test > 0.5).astype(int))\n",
        "\n",
        "    # Calculate Sensitivity and Specificity\n",
        "    tn, fp, fn, tp = confusion_matrix(y_test, (y_probas_test > 0.5).astype(int)).ravel()\n",
        "    sensitivity = tp / (tp + fn)\n",
        "\n",
        "\n",
        "    # Plot ROC curve for test set\n",
        "    axs[1].plot(fpr_test, tpr_test, label=f'{model_name} (AUC = {auc_test:.2f}')\n",
        "    axs[1].set_xlabel('False Positive Rate')\n",
        "    axs[1].set_ylabel('True Positive Rate')\n",
        "    axs[1].set_title('ROC Curve - Test Set')\n",
        "    axs[1].legend()\n",
        "\n",
        "    test_results[model_name]['AUC'] = auc_test\n",
        "    test_results[model_name]['MCC'] = mcc\n",
        "    test_results[model_name]['Sensitivity'] = sensitivity\n",
        "    test_results[model_name]['Specificity'] = tn / (tn + fp)\n",
        "\n",
        "    # Print results\n",
        "    print(f'{model_name} Metrics of Training Set:')\n",
        "    for metric, value in train_results[model_name].items():\n",
        "        print(f'{metric}: {value:.4f}')\n",
        "\n",
        "    print(f'{model_name} Metrics of Test Set:')\n",
        "    for metric, value in test_results[model_name].items():\n",
        "        print(f'{metric}: {value:.4f}')\n",
        "\n",
        "    print('-' * 30)\n",
        "\n",
        "plt.tight_layout()\n",
        "plt.show()"
      ],
      "metadata": {
        "colab": {
          "base_uri": "https://localhost:8080/",
          "height": 1000
        },
        "id": "liidMw6Pm_Q1",
        "outputId": "8afaad61-ccd7-4177-a733-676fa481023b"
      },
      "execution_count": 39,
      "outputs": [
        {
          "output_type": "stream",
          "name": "stdout",
          "text": [
            "Random Forest Metrics of Training Set:\n",
            "AUC: 0.8344\n",
            "MCC: 0.5165\n",
            "Sensitivity: 0.7110\n",
            "Specificity: 0.8033\n",
            "Accuracy: 0.7571\n",
            "Random Forest Metrics of Test Set:\n",
            "Test Accuracy: 0.7675\n",
            "AUC: 0.8468\n",
            "MCC: 0.5364\n",
            "Sensitivity: 0.7310\n",
            "Specificity: 0.8040\n",
            "------------------------------\n",
            "[LightGBM] [Info] Number of positive: 4000, number of negative: 4000\n",
            "[LightGBM] [Info] Total Bins 111236\n",
            "[LightGBM] [Info] Number of data points in the train set: 8000, number of used features: 510\n",
            "[LightGBM] [Info] [binary:BoostFromScore]: pavg=0.500000 -> initscore=0.000000\n",
            "[LightGBM] [Warning] No further splits with positive gain, best gain: -inf\n",
            "[LightGBM] [Warning] No further splits with positive gain, best gain: -inf\n",
            "[LightGBM] [Warning] No further splits with positive gain, best gain: -inf\n",
            "[LightGBM] [Warning] No further splits with positive gain, best gain: -inf\n",
            "[LightGBM] [Info] Number of positive: 3600, number of negative: 3600\n",
            "[LightGBM] [Info] Total Bins 110910\n",
            "[LightGBM] [Info] Number of data points in the train set: 7200, number of used features: 510\n",
            "[LightGBM] [Info] [binary:BoostFromScore]: pavg=0.500000 -> initscore=0.000000\n",
            "[LightGBM] [Warning] No further splits with positive gain, best gain: -inf\n",
            "[LightGBM] [Warning] No further splits with positive gain, best gain: -inf\n",
            "[LightGBM] [Warning] No further splits with positive gain, best gain: -inf\n",
            "[LightGBM] [Warning] No further splits with positive gain, best gain: -inf\n",
            "[LightGBM] [Warning] No further splits with positive gain, best gain: -inf\n",
            "[LightGBM] [Warning] No further splits with positive gain, best gain: -inf\n",
            "[LightGBM] [Warning] No further splits with positive gain, best gain: -inf\n",
            "[LightGBM] [Info] Number of positive: 3600, number of negative: 3600\n",
            "[LightGBM] [Info] Total Bins 110949\n",
            "[LightGBM] [Info] Number of data points in the train set: 7200, number of used features: 510\n",
            "[LightGBM] [Info] [binary:BoostFromScore]: pavg=0.500000 -> initscore=0.000000\n",
            "[LightGBM] [Warning] No further splits with positive gain, best gain: -inf\n",
            "[LightGBM] [Warning] No further splits with positive gain, best gain: -inf\n",
            "[LightGBM] [Warning] No further splits with positive gain, best gain: -inf\n",
            "[LightGBM] [Warning] No further splits with positive gain, best gain: -inf\n",
            "[LightGBM] [Warning] No further splits with positive gain, best gain: -inf\n",
            "[LightGBM] [Warning] No further splits with positive gain, best gain: -inf\n",
            "[LightGBM] [Info] Number of positive: 3600, number of negative: 3600\n",
            "[LightGBM] [Info] Total Bins 110985\n",
            "[LightGBM] [Info] Number of data points in the train set: 7200, number of used features: 510\n",
            "[LightGBM] [Info] [binary:BoostFromScore]: pavg=0.500000 -> initscore=0.000000\n",
            "[LightGBM] [Warning] No further splits with positive gain, best gain: -inf\n",
            "[LightGBM] [Warning] No further splits with positive gain, best gain: -inf\n",
            "[LightGBM] [Warning] No further splits with positive gain, best gain: -inf\n",
            "[LightGBM] [Warning] No further splits with positive gain, best gain: -inf\n",
            "[LightGBM] [Warning] No further splits with positive gain, best gain: -inf\n",
            "[LightGBM] [Warning] No further splits with positive gain, best gain: -inf\n",
            "[LightGBM] [Info] Number of positive: 3600, number of negative: 3600\n",
            "[LightGBM] [Info] Total Bins 110958\n",
            "[LightGBM] [Info] Number of data points in the train set: 7200, number of used features: 510\n",
            "[LightGBM] [Info] [binary:BoostFromScore]: pavg=0.500000 -> initscore=0.000000\n",
            "[LightGBM] [Warning] No further splits with positive gain, best gain: -inf\n",
            "[LightGBM] [Warning] No further splits with positive gain, best gain: -inf\n",
            "[LightGBM] [Warning] No further splits with positive gain, best gain: -inf\n",
            "[LightGBM] [Warning] No further splits with positive gain, best gain: -inf\n",
            "[LightGBM] [Warning] No further splits with positive gain, best gain: -inf\n",
            "[LightGBM] [Warning] No further splits with positive gain, best gain: -inf\n",
            "[LightGBM] [Warning] No further splits with positive gain, best gain: -inf\n",
            "[LightGBM] [Warning] No further splits with positive gain, best gain: -inf\n",
            "[LightGBM] [Warning] No further splits with positive gain, best gain: -inf\n",
            "[LightGBM] [Info] Number of positive: 3600, number of negative: 3600\n",
            "[LightGBM] [Info] Total Bins 110936\n",
            "[LightGBM] [Info] Number of data points in the train set: 7200, number of used features: 510\n",
            "[LightGBM] [Info] [binary:BoostFromScore]: pavg=0.500000 -> initscore=0.000000\n",
            "[LightGBM] [Warning] No further splits with positive gain, best gain: -inf\n",
            "[LightGBM] [Warning] No further splits with positive gain, best gain: -inf\n",
            "[LightGBM] [Warning] No further splits with positive gain, best gain: -inf\n",
            "[LightGBM] [Warning] No further splits with positive gain, best gain: -inf\n",
            "[LightGBM] [Warning] No further splits with positive gain, best gain: -inf\n",
            "[LightGBM] [Info] Number of positive: 3600, number of negative: 3600\n",
            "[LightGBM] [Info] Total Bins 110869\n",
            "[LightGBM] [Info] Number of data points in the train set: 7200, number of used features: 510\n",
            "[LightGBM] [Info] [binary:BoostFromScore]: pavg=0.500000 -> initscore=0.000000\n",
            "[LightGBM] [Warning] No further splits with positive gain, best gain: -inf\n",
            "[LightGBM] [Warning] No further splits with positive gain, best gain: -inf\n",
            "[LightGBM] [Warning] No further splits with positive gain, best gain: -inf\n",
            "[LightGBM] [Warning] No further splits with positive gain, best gain: -inf\n",
            "[LightGBM] [Warning] No further splits with positive gain, best gain: -inf\n",
            "[LightGBM] [Warning] No further splits with positive gain, best gain: -inf\n",
            "[LightGBM] [Warning] No further splits with positive gain, best gain: -inf\n",
            "[LightGBM] [Warning] No further splits with positive gain, best gain: -inf\n",
            "[LightGBM] [Info] Number of positive: 3600, number of negative: 3600\n",
            "[LightGBM] [Info] Total Bins 110916\n",
            "[LightGBM] [Info] Number of data points in the train set: 7200, number of used features: 510\n",
            "[LightGBM] [Info] [binary:BoostFromScore]: pavg=0.500000 -> initscore=0.000000\n",
            "[LightGBM] [Warning] No further splits with positive gain, best gain: -inf\n",
            "[LightGBM] [Warning] No further splits with positive gain, best gain: -inf\n",
            "[LightGBM] [Warning] No further splits with positive gain, best gain: -inf\n",
            "[LightGBM] [Warning] No further splits with positive gain, best gain: -inf\n",
            "[LightGBM] [Warning] No further splits with positive gain, best gain: -inf\n",
            "[LightGBM] [Warning] No further splits with positive gain, best gain: -inf\n",
            "[LightGBM] [Warning] No further splits with positive gain, best gain: -inf\n",
            "[LightGBM] [Warning] No further splits with positive gain, best gain: -inf\n",
            "[LightGBM] [Warning] No further splits with positive gain, best gain: -inf\n",
            "[LightGBM] [Warning] No further splits with positive gain, best gain: -inf\n",
            "[LightGBM] [Warning] No further splits with positive gain, best gain: -inf\n",
            "[LightGBM] [Warning] No further splits with positive gain, best gain: -inf\n",
            "[LightGBM] [Warning] No further splits with positive gain, best gain: -inf\n",
            "[LightGBM] [Warning] No further splits with positive gain, best gain: -inf\n",
            "[LightGBM] [Info] Number of positive: 3600, number of negative: 3600\n",
            "[LightGBM] [Info] Total Bins 110862\n",
            "[LightGBM] [Info] Number of data points in the train set: 7200, number of used features: 510\n",
            "[LightGBM] [Info] [binary:BoostFromScore]: pavg=0.500000 -> initscore=0.000000\n",
            "[LightGBM] [Warning] No further splits with positive gain, best gain: -inf\n",
            "[LightGBM] [Warning] No further splits with positive gain, best gain: -inf\n",
            "[LightGBM] [Warning] No further splits with positive gain, best gain: -inf\n",
            "[LightGBM] [Warning] No further splits with positive gain, best gain: -inf\n",
            "[LightGBM] [Warning] No further splits with positive gain, best gain: -inf\n",
            "[LightGBM] [Warning] No further splits with positive gain, best gain: -inf\n",
            "[LightGBM] [Info] Number of positive: 3600, number of negative: 3600\n",
            "[LightGBM] [Info] Total Bins 110836\n",
            "[LightGBM] [Info] Number of data points in the train set: 7200, number of used features: 510\n",
            "[LightGBM] [Info] [binary:BoostFromScore]: pavg=0.500000 -> initscore=0.000000\n",
            "[LightGBM] [Warning] No further splits with positive gain, best gain: -inf\n",
            "[LightGBM] [Warning] No further splits with positive gain, best gain: -inf\n",
            "[LightGBM] [Warning] No further splits with positive gain, best gain: -inf\n",
            "[LightGBM] [Warning] No further splits with positive gain, best gain: -inf\n",
            "[LightGBM] [Warning] No further splits with positive gain, best gain: -inf\n",
            "[LightGBM] [Warning] No further splits with positive gain, best gain: -inf\n",
            "[LightGBM] [Warning] No further splits with positive gain, best gain: -inf\n",
            "[LightGBM] [Info] Number of positive: 3600, number of negative: 3600\n",
            "[LightGBM] [Info] Total Bins 110906\n",
            "[LightGBM] [Info] Number of data points in the train set: 7200, number of used features: 510\n",
            "[LightGBM] [Info] [binary:BoostFromScore]: pavg=0.500000 -> initscore=0.000000\n",
            "[LightGBM] [Warning] No further splits with positive gain, best gain: -inf\n",
            "[LightGBM] [Warning] No further splits with positive gain, best gain: -inf\n",
            "[LightGBM] [Warning] No further splits with positive gain, best gain: -inf\n",
            "[LightGBM] [Warning] No further splits with positive gain, best gain: -inf\n",
            "[LightGBM] [Warning] No further splits with positive gain, best gain: -inf\n",
            "[LightGBM] [Warning] No further splits with positive gain, best gain: -inf\n",
            "[LightGBM] [Warning] No further splits with positive gain, best gain: -inf\n",
            "[LightGBM] [Warning] No further splits with positive gain, best gain: -inf\n",
            "[LightGBM] [Warning] No further splits with positive gain, best gain: -inf\n",
            "LightGBM Metrics of Training Set:\n",
            "AUC: 0.8517\n",
            "MCC: 0.5487\n",
            "Sensitivity: 0.7282\n",
            "Specificity: 0.8183\n",
            "Accuracy: 0.7732\n",
            "LightGBM Metrics of Test Set:\n",
            "Test Accuracy: 0.7905\n",
            "AUC: 0.8751\n",
            "MCC: 0.5831\n",
            "Sensitivity: 0.7480\n",
            "Specificity: 0.8330\n",
            "------------------------------\n",
            "K-Nearest Neighbors Metrics of Training Set:\n",
            "AUC: 0.6947\n",
            "MCC: 0.2904\n",
            "Sensitivity: 0.5615\n",
            "Specificity: 0.7250\n",
            "Accuracy: 0.6432\n",
            "K-Nearest Neighbors Metrics of Test Set:\n",
            "Test Accuracy: 0.6470\n",
            "AUC: 0.6921\n",
            "MCC: 0.2981\n",
            "Sensitivity: 0.5640\n",
            "Specificity: 0.7300\n",
            "------------------------------\n",
            "Decision Tree Metrics of Training Set:\n",
            "AUC: 0.7412\n",
            "MCC: 0.4124\n",
            "Sensitivity: 0.5998\n",
            "Specificity: 0.8040\n",
            "Accuracy: 0.7019\n",
            "Decision Tree Metrics of Test Set:\n",
            "Test Accuracy: 0.7420\n",
            "AUC: 0.7882\n",
            "MCC: 0.4857\n",
            "Sensitivity: 0.7000\n",
            "Specificity: 0.7840\n",
            "------------------------------\n",
            "XGBoost Metrics of Training Set:\n",
            "AUC: 0.8413\n",
            "MCC: 0.5361\n",
            "Sensitivity: 0.7085\n",
            "Specificity: 0.8240\n",
            "Accuracy: 0.7662\n",
            "XGBoost Metrics of Test Set:\n",
            "Test Accuracy: 0.7880\n",
            "AUC: 0.8600\n",
            "MCC: 0.5772\n",
            "Sensitivity: 0.7560\n",
            "Specificity: 0.8200\n",
            "------------------------------\n"
          ]
        },
        {
          "output_type": "display_data",
          "data": {
            "text/plain": [
              "<Figure size 1500x500 with 2 Axes>"
            ],
            "image/png": "[encoded data removed]"
          },
          "metadata": {}
        }
      ]
    }
  ]
}